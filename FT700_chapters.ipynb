{
  "nbformat": 4,
  "nbformat_minor": 0,
  "metadata": {
    "colab": {
      "name": "FT700-chapters.ipynb",
      "provenance": [],
      "include_colab_link": true
    },
    "kernelspec": {
      "name": "python3",
      "display_name": "Python 3"
    }
  },
  "cells": [
    {
      "cell_type": "markdown",
      "metadata": {
        "id": "view-in-github",
        "colab_type": "text"
      },
      "source": [
        "<a href=\"https://colab.research.google.com/github/yawlin/hello/blob/master/FT700_chapters.ipynb\" target=\"_parent\"><img src=\"https://colab.research.google.com/assets/colab-badge.svg\" alt=\"Open In Colab\"/></a>"
      ]
    },
    {
      "cell_type": "markdown",
      "metadata": {
        "id": "I55JsHEt-Jx2",
        "colab_type": "text"
      },
      "source": [
        "Ch00 -- print.py"
      ]
    },
    {
      "cell_type": "code",
      "metadata": {
        "id": "RX23XIxQ9y8K",
        "colab_type": "code",
        "colab": {
          "base_uri": "https://localhost:8080/",
          "height": 34
        },
        "outputId": "1c58346a-02f5-4d5a-85cc-64a4a34696e4"
      },
      "source": [
        "a = 1\n",
        "a\n",
        "a + 2\n",
        "print('總和為', a + 2)\n"
      ],
      "execution_count": 2,
      "outputs": [
        {
          "output_type": "stream",
          "text": [
            "總和為 3\n"
          ],
          "name": "stdout"
        }
      ]
    },
    {
      "cell_type": "markdown",
      "metadata": {
        "id": "lSMFZxfh_AN2",
        "colab_type": "text"
      },
      "source": [
        "5-0"
      ]
    },
    {
      "cell_type": "code",
      "metadata": {
        "id": "l6ddMZPU-6Op",
        "colab_type": "code",
        "colab": {
          "base_uri": "https://localhost:8080/",
          "height": 1000
        },
        "outputId": "5270b09e-bad7-44bb-fa87-6448560f8567"
      },
      "source": [
        "import requests  # 匯入 requests 套件\n",
        "r = requests.get('http://www.flag.com.tw') # 向旗標網站發出 GET 請求,並將回應物件儲存到 r\n",
        "\n",
        "if r.status_code == 200:   # 回應的狀態碼若為 200 表示 OK\n",
        "    print(r.text)          # 將回應的文字(網頁原始碼)印出來\n",
        "else:\n",
        "    print(r.status_code, r.reason) # 若發生錯誤(狀態碼不是 200), 則印出狀態碼及錯誤原因"
      ],
      "execution_count": 4,
      "outputs": [
        {
          "output_type": "stream",
          "text": [
            "<!doctype html>\n",
            "<html>\n",
            "\t<head>\n",
            "\t<meta charset=\"utf-8\">\n",
            "\t<meta name=\"viewport\" content=\"width=device-width,initial-scale=1.0,minimum-scale=1.0\">\n",
            "\t<title>旗標科技</title>\n",
            "\t<link rel=\"stylesheet\" href=\"https://www.flag.com.tw/assets/css/home/normalize.css\">\n",
            "\t<link rel=\"stylesheet\" href=\"https://www.flag.com.tw/assets/css/home/style.css\">\n",
            "\t<link rel=\"stylesheet\" href=\"https://www.flag.com.tw/assets/css/home/animate.css\">\n",
            "\t<link rel=\"stylesheet\" href=\"https://www.flag.com.tw/assets/css/home/font-awesome.css\">\n",
            "\t<link rel=\"stylesheet\" href=\"https://www.flag.com.tw/assets/css/home/bigvideo.css\">\n",
            "\t<script type=\"text/javascript\" src=\"https://www.flag.com.tw/assets/js/jquery-3.2.1.min.js\"></script>\n",
            "    <script src=\"https://www.flag.com.tw/assets/js/jquery-ui.min.js\"></script>\n",
            "\t<script src=\"//vjs.zencdn.net/4.3/video.js\"></script>\n",
            "\t<script src=\"https://www.flag.com.tw/assets/js/bigvideo.js\"></script>\n",
            "\n",
            "<link rel=\"icon\" href=\"https://www.flag.com.tw/assets/img/flag.png\" sizes=\"32x32\" />\n",
            "<!-- Global site tag (gtag.js) - Google Analytics -->\n",
            "<script async src=\"https://www.googletagmanager.com/gtag/js?id=UA-122475394-1\"></script>\n",
            "<script>\n",
            "  window.dataLayer = window.dataLayer || [];\n",
            "  function gtag(){dataLayer.push(arguments);}\n",
            "  gtag('js', new Date());\n",
            "\n",
            "  gtag('config', 'UA-122475394-1');\n",
            "</script>\n",
            "<meta property=\"og:image\" content=\"https://www.flag.com.tw/assets/img/flag-32.png\">\n",
            "\t</head>\n",
            "\t<body class=\"homepage\">\n",
            "\n",
            "    <!-- Demo -->\n",
            "\n",
            "\n",
            "<section class=\"homeheader\">\n",
            "      <div class=\"home\">\n",
            "       <div></br> </div> \n",
            "\t  \t  <!--div class=\"home-title\"><img src=\"https://www.flag.com.tw/assets/img/home/F9796_title.png\" alt=\"Logo\"></div> -->  \n",
            "        <!--div class=\"home-logo\"><img class=\"home-loc\" src=\"https://www.flag.com.tw/assets/img/home/flag-logo-black-nologo.png\"></div>   -->  \n",
            "   <form action=\"https://www.flag.com.tw/books/book_searching\" method=\"post\" class=\"search\" role=\"search\">\n",
            "      <div class=\"form__field\">\n",
            "        <input type=\"text\" name=\"book_search\" placeholder=\"關鍵字搜尋\" class=\"form__input\" value=\"\"  autofocus>\n",
            "\n",
            "      </div>\n",
            "\n",
            "    </form>\n",
            "  </div>\n",
            "\n",
            "<div class=\"mainbtn\">\n",
            "    <div class=\"sub-main\">\n",
            "      <button class=\"button-three bluebtn\"  onclick=\"location.href='https://www.flag.com.tw/books'\"><p>Books</p><h4>圖書</h4></button>\n",
            "    </div>\n",
            "    <div class=\"sub-main\">\n",
            "      <button class=\"button-three orangebtn\" onclick=\"location.href='https://www.flag.com.tw/maker'\"><p>Maker</p><h4>創客</h4></button>\n",
            "    </div>\n",
            "    <div class=\"sub-main\">\n",
            "      <button class=\"button-three pinkbtn\" onclick=\"location.href='https://www.flag.com.tw/books/school'\"><p>Textbooks</p><h4>教科書</h4></button>\n",
            "    </div>\n",
            "\t <div class=\"sub-main\">\n",
            "      <button class=\"button-three purplebtn\" onclick=\"location.href='https://www.flag.com.tw/teachaid/'\"><p>Teach Aid</p><h4>教具</h4></button>\n",
            "    </div>\n",
            "  </div>\n",
            "    </section>\n",
            "\n",
            "\t\t<footer role=\"contentinfo\">\n",
            "    <table class=\"clmtable\">\n",
            "      <tr>\n",
            "        <td><a href=\"https://www.flag.com.tw/flag/contact\">聯絡我們</a></td>\n",
            "\t\t<td><a href=\"https://www.flag.com.tw/people/aboutflag.asp\">關於旗標</a></td>\n",
            "        <td><a href=\"https://www.flag.com.tw/epaper/privacy.asp\">隱私權規約</a></td>\n",
            "      </tr>\n",
            "    </table>\n",
            " <div class=\"footer-bottom\">\n",
            "    <p class=\"footer-left\"> <strong>旗標科技股份有限公司</strong></p><p>台北市中正區\n",
            "      杭州南路一段15-1號19樓 </p>\n",
            "    <p class=\"footer-right\">© Flag Technology CO.,LTD.\n",
            "      All rights reserved.</p>\n",
            "  </div>\n",
            "</footer>\n",
            "</body>\n",
            "\n",
            "</html>\n",
            "\n"
          ],
          "name": "stdout"
        }
      ]
    },
    {
      "cell_type": "markdown",
      "metadata": {
        "id": "e4hO77uN_V-v",
        "colab_type": "text"
      },
      "source": [
        "5-1"
      ]
    },
    {
      "cell_type": "code",
      "metadata": {
        "id": "dFd_Bdy2_Tlz",
        "colab_type": "code",
        "colab": {
          "base_uri": "https://localhost:8080/",
          "height": 294
        },
        "outputId": "089faefd-4c11-4874-e7df-db4a88af551b"
      },
      "source": [
        "import requests\n",
        "\n",
        "url = 'https://httpbin.org/get'\n",
        "hd = {'user-key': '7ADGS9S'}  # 標頭參數(以字典儲存)\n",
        "pm = {'id': 1023, 'neme': 'joe'}   # 網址參數(以字典儲存)\n",
        "r = requests.get(url, headers = hd, params = pm)   # 加入 headers 及 params 參數\n",
        "print(r.text)   # 將回應的文字印出來"
      ],
      "execution_count": 5,
      "outputs": [
        {
          "output_type": "stream",
          "text": [
            "{\n",
            "  \"args\": {\n",
            "    \"id\": \"1023\", \n",
            "    \"neme\": \"joe\"\n",
            "  }, \n",
            "  \"headers\": {\n",
            "    \"Accept\": \"*/*\", \n",
            "    \"Accept-Encoding\": \"gzip, deflate\", \n",
            "    \"Host\": \"httpbin.org\", \n",
            "    \"User-Agent\": \"python-requests/2.21.0\", \n",
            "    \"User-Key\": \"7ADGS9S\"\n",
            "  }, \n",
            "  \"origin\": \"35.233.168.49, 35.233.168.49\", \n",
            "  \"url\": \"https://httpbin.org/get?id=1023&neme=joe\"\n",
            "}\n",
            "\n"
          ],
          "name": "stdout"
        }
      ]
    },
    {
      "cell_type": "markdown",
      "metadata": {
        "id": "UeT3LZHBAO-E",
        "colab_type": "text"
      },
      "source": [
        "5-3"
      ]
    },
    {
      "cell_type": "code",
      "metadata": {
        "id": "slb6qGPDAQk5",
        "colab_type": "code",
        "colab": {
          "base_uri": "https://localhost:8080/",
          "height": 985
        },
        "outputId": "c41eb669-a78d-46ce-d10a-25d6967ca03f"
      },
      "source": [
        "import requests\n",
        "\n",
        "r = requests.put('https://httpbin.org/put', data = {'key':'abc'})\n",
        "print(r.text)\n",
        "r = requests.patch('https://httpbin.org/patch', data = {'key':'xyz'})\n",
        "print(r.text)\n",
        "r = requests.delete('https://httpbin.org/delete')\n",
        "print(r.text)"
      ],
      "execution_count": 6,
      "outputs": [
        {
          "output_type": "stream",
          "text": [
            "{\n",
            "  \"args\": {}, \n",
            "  \"data\": \"\", \n",
            "  \"files\": {}, \n",
            "  \"form\": {\n",
            "    \"key\": \"abc\"\n",
            "  }, \n",
            "  \"headers\": {\n",
            "    \"Accept\": \"*/*\", \n",
            "    \"Accept-Encoding\": \"gzip, deflate\", \n",
            "    \"Content-Length\": \"7\", \n",
            "    \"Content-Type\": \"application/x-www-form-urlencoded\", \n",
            "    \"Host\": \"httpbin.org\", \n",
            "    \"User-Agent\": \"python-requests/2.21.0\"\n",
            "  }, \n",
            "  \"json\": null, \n",
            "  \"origin\": \"35.233.168.49, 35.233.168.49\", \n",
            "  \"url\": \"https://httpbin.org/put\"\n",
            "}\n",
            "\n",
            "{\n",
            "  \"args\": {}, \n",
            "  \"data\": \"\", \n",
            "  \"files\": {}, \n",
            "  \"form\": {\n",
            "    \"key\": \"xyz\"\n",
            "  }, \n",
            "  \"headers\": {\n",
            "    \"Accept\": \"*/*\", \n",
            "    \"Accept-Encoding\": \"gzip, deflate\", \n",
            "    \"Content-Length\": \"7\", \n",
            "    \"Content-Type\": \"application/x-www-form-urlencoded\", \n",
            "    \"Host\": \"httpbin.org\", \n",
            "    \"User-Agent\": \"python-requests/2.21.0\"\n",
            "  }, \n",
            "  \"json\": null, \n",
            "  \"origin\": \"35.233.168.49, 35.233.168.49\", \n",
            "  \"url\": \"https://httpbin.org/patch\"\n",
            "}\n",
            "\n",
            "{\n",
            "  \"args\": {}, \n",
            "  \"data\": \"\", \n",
            "  \"files\": {}, \n",
            "  \"form\": {}, \n",
            "  \"headers\": {\n",
            "    \"Accept\": \"*/*\", \n",
            "    \"Accept-Encoding\": \"gzip, deflate\", \n",
            "    \"Host\": \"httpbin.org\", \n",
            "    \"User-Agent\": \"python-requests/2.21.0\"\n",
            "  }, \n",
            "  \"json\": null, \n",
            "  \"origin\": \"35.233.168.49, 35.233.168.49\", \n",
            "  \"url\": \"https://httpbin.org/delete\"\n",
            "}\n",
            "\n"
          ],
          "name": "stdout"
        }
      ]
    }
  ]
}